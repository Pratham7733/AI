{
 "cells": [
  {
   "cell_type": "markdown",
   "metadata": {},
   "source": [
    "# PHULE PRATHAMESH DNYANDEV"
   ]
  },
  {
   "cell_type": "markdown",
   "metadata": {
    "collapsed": true
   },
   "source": [
    "## Selection Sort:"
   ]
  },
  {
   "cell_type": "code",
   "execution_count": 1,
   "metadata": {},
   "outputs": [
    {
     "name": "stdout",
     "output_type": "stream",
     "text": [
      "The sorted array is:  [3, 6, 9, 21, 33]\n"
     ]
    }
   ],
   "source": [
    "def selection_sort(array):  \n",
    "    length = len(array)  \n",
    "      \n",
    "    for i in range(length-1):  \n",
    "        minIndex = i  \n",
    "          \n",
    "        for j in range(i+1, length):  \n",
    "            if array[j]<array[minIndex]:  \n",
    "                minIndex = j  \n",
    "                  \n",
    "        array[i], array[minIndex] = array[minIndex], array[i]  \n",
    "          \n",
    "          \n",
    "    return array      \n",
    "array = [21,6,9,33,3]  \n",
    "  \n",
    "print(\"The sorted array is: \", selection_sort(array)) "
   ]
  },
  {
   "cell_type": "markdown",
   "metadata": {},
   "source": [
    "## Prim's Minimal Spanning Tree Algorithm:"
   ]
  },
  {
   "cell_type": "code",
   "execution_count": 2,
   "metadata": {},
   "outputs": [
    {
     "name": "stdout",
     "output_type": "stream",
     "text": [
      "[('A', 'B', 2), ('B', 'C', 1), ('B', 'D', 1)]\n"
     ]
    }
   ],
   "source": [
    "import heapq\n",
    "    \n",
    "def prim(graph, start):\n",
    "    mst = []\n",
    "    visited = set([start])\n",
    "    edges = [ (cost, start, to) for to, cost in graph[start].items() ]\n",
    "    heapq.heapify(edges)\n",
    " \n",
    "    while edges:\n",
    "        cost, frm, to = heapq.heappop(edges)\n",
    "        if to not in visited:\n",
    "            visited.add(to)\n",
    "            mst.append((frm, to, cost))\n",
    " \n",
    "            for to_next, cost2 in graph[to].items():\n",
    "                if to_next not in visited:\n",
    "                    heapq.heappush(edges, (cost2, to, to_next))\n",
    " \n",
    "    return mst\n",
    "\n",
    "graph = {\n",
    " 'A': {'B': 2, 'C': 3},\n",
    " 'B': {'A': 2, 'C': 1, 'D': 1},\n",
    " 'C': {'A': 3, 'B': 1, 'D': 4},\n",
    " 'D': {'B': 1, 'C': 4},\n",
    "}\n",
    "print(prim(graph, 'A'))"
   ]
  },
  {
   "cell_type": "markdown",
   "metadata": {},
   "source": [
    "# Kruskal's Minimal Spanning Tree Algorithm: "
   ]
  },
  {
   "cell_type": "code",
   "execution_count": 3,
   "metadata": {},
   "outputs": [
    {
     "name": "stdout",
     "output_type": "stream",
     "text": [
      "[('B', 'C', 1), ('B', 'D', 1), ('A', 'B', 2)]\n"
     ]
    }
   ],
   "source": [
    "def krushkal(graph):\n",
    "    mst=[]\n",
    "    edges=[(cost, frm, to) for frm, to_dict in graph.items() for to, cost in to_dict.items()]\n",
    "    edges.sort()\n",
    "    parent={node: node for node in graph}\n",
    "    \n",
    "    def find_root(node):\n",
    "        if parent[node]==node:\n",
    "            return node\n",
    "        parent[node]=find_root(parent[node])\n",
    "        return parent[node]\n",
    "    \n",
    "    for cost, frm, to in edges:\n",
    "        root1=find_root(frm)\n",
    "        root2=find_root(to)\n",
    "        if root1 != root2:\n",
    "            parent[root1]=root2\n",
    "            mst.append((frm, to, cost))\n",
    "    return mst\n",
    "\n",
    "graph={\n",
    "    'A':{'B':2, 'C':3},\n",
    "    'B':{'A':2, 'C':1, 'D':1},\n",
    "    'C':{'A':3, 'B':1, 'D':4},\n",
    "    'D':{'B':1, 'C':4}\n",
    "}\n",
    "print(krushkal(graph))"
   ]
  },
  {
   "cell_type": "code",
   "execution_count": null,
   "metadata": {},
   "outputs": [],
   "source": []
  }
 ],
 "metadata": {
  "kernelspec": {
   "display_name": "Python 3 (ipykernel)",
   "language": "python",
   "name": "python3"
  },
  "language_info": {
   "codemirror_mode": {
    "name": "ipython",
    "version": 3
   },
   "file_extension": ".py",
   "mimetype": "text/x-python",
   "name": "python",
   "nbconvert_exporter": "python",
   "pygments_lexer": "ipython3",
   "version": "3.9.13"
  }
 },
 "nbformat": 4,
 "nbformat_minor": 2
}
