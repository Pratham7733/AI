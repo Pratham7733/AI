{
 "cells": [
  {
   "cell_type": "markdown",
   "id": "d804fb9e",
   "metadata": {},
   "source": [
    "# PHULE PRATHAMESH DNYANDEV"
   ]
  },
  {
   "cell_type": "code",
   "execution_count": 1,
   "id": "a7587d94",
   "metadata": {},
   "outputs": [
    {
     "name": "stdout",
     "output_type": "stream",
     "text": [
      "Hi, I'm a simple chatbot. What can I help you with today?\n",
      "you : Hi\n",
      "BOT : Hello!\n",
      "you : How are you?\n",
      "BOT : I'm sorry, I didn't understand what you said.\n",
      "you : How are you\n",
      "BOT : I'm doing well, thank you!\n",
      "you : What would you like to see\n",
      "BOT : I am looking for a phone\n",
      "you : What is your budget\n",
      "BOT : I have an open budget\n",
      "you : What brand are you looking for\n",
      "BOT : Redmi\n",
      "you : Would you like to see something else\n",
      "BOT : Yes please\n",
      "you : Yes\n",
      "BOT : ok\n",
      "you : Bye\n",
      "Goodbye!\n"
     ]
    }
   ],
   "source": [
    "import random\n",
    "\n",
    "responses = {\n",
    "    \"hi\": [\"Hello!\", \"Hi there!\", \"Hey!\"],\n",
    "    \"how are you\": [\"I'm doing well, thank you!\", \"I'm fine, thanks for asking.\", \"Pretty good!\"],\n",
    "    \"what would you like to see\": [\"I am looking for a phone\", \"Do you have good quality headphones?\"],\n",
    "    \"what is your budget\": [\"Around 3000\", \"I have an open budget\"],\n",
    "    \"what brand are you looking for\": [\"Samsung\", \"Nokia\", \"Redmi\"],\n",
    "    \"would you like to see something else\": [\"No thats it thankyou!\", \"Yes please\"],\n",
    "    \"yes\":[\"ok\"],\n",
    "    \"default\": [\"I'm sorry, I didn't understand what you said.\", \"Can you please rephrase that?\", \"I'm not sure what you mean.\"]\n",
    "}\n",
    "\n",
    "def chatbot_response(user_input):\n",
    "    if user_input.lower() in responses:\n",
    "        return random.choice(responses[user_input.lower()])\n",
    "    else:\n",
    "        return random.choice(responses[\"default\"])\n",
    "\n",
    "print(\"Hi, I'm a simple chatbot. What can I help you with today?\")\n",
    "while True:\n",
    "    user_input = input(\"you : \")\n",
    "    if user_input.lower() == \"bye\":\n",
    "        print(\"Goodbye!\")\n",
    "        break\n",
    "    else:\n",
    "        print(f\"BOT : {chatbot_response(user_input)}\")"
   ]
  },
  {
   "cell_type": "code",
   "execution_count": null,
   "id": "09498c38",
   "metadata": {},
   "outputs": [],
   "source": []
  }
 ],
 "metadata": {
  "kernelspec": {
   "display_name": "Python 3 (ipykernel)",
   "language": "python",
   "name": "python3"
  },
  "language_info": {
   "codemirror_mode": {
    "name": "ipython",
    "version": 3
   },
   "file_extension": ".py",
   "mimetype": "text/x-python",
   "name": "python",
   "nbconvert_exporter": "python",
   "pygments_lexer": "ipython3",
   "version": "3.9.13"
  }
 },
 "nbformat": 4,
 "nbformat_minor": 5
}
